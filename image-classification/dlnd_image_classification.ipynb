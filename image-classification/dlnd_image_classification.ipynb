{
 "cells": [
  {
   "cell_type": "markdown",
   "metadata": {
    "collapsed": true
   },
   "source": [
    "# Image Classification\n",
    "In this project, you'll classify images from the [CIFAR-10 dataset](https://www.cs.toronto.edu/~kriz/cifar.html).  The dataset consists of airplanes, dogs, cats, and other objects. You'll preprocess the images, then train a convolutional neural network on all the samples. The images need to be normalized and the labels need to be one-hot encoded.  You'll get to apply what you learned and build a convolutional, max pooling, dropout, and fully connected layers.  At the end, you'll get to see your neural network's predictions on the sample images.\n",
    "## Get the Data\n",
    "Run the following cell to download the [CIFAR-10 dataset for python](https://www.cs.toronto.edu/~kriz/cifar-10-python.tar.gz)."
   ]
  },
  {
   "cell_type": "code",
   "execution_count": 1,
   "metadata": {},
   "outputs": [
    {
     "name": "stdout",
     "output_type": "stream",
     "text": [
      "All files found!\n"
     ]
    }
   ],
   "source": [
    "\"\"\"\n",
    "DON'T MODIFY ANYTHING IN THIS CELL THAT IS BELOW THIS LINE\n",
    "\"\"\"\n",
    "from urllib.request import urlretrieve\n",
    "from os.path import isfile, isdir\n",
    "from tqdm import tqdm\n",
    "import problem_unittests as tests\n",
    "import tarfile\n",
    "\n",
    "cifar10_dataset_folder_path = 'cifar-10-batches-py'\n",
    "\n",
    "class DLProgress(tqdm):\n",
    "    last_block = 0\n",
    "\n",
    "    def hook(self, block_num=1, block_size=1, total_size=None):\n",
    "        self.total = total_size\n",
    "        self.update((block_num - self.last_block) * block_size)\n",
    "        self.last_block = block_num\n",
    "\n",
    "if not isfile('cifar-10-python.tar.gz'):\n",
    "    with DLProgress(unit='B', unit_scale=True, miniters=1, desc='CIFAR-10 Dataset') as pbar:\n",
    "        urlretrieve(\n",
    "            'https://www.cs.toronto.edu/~kriz/cifar-10-python.tar.gz',\n",
    "            'cifar-10-python.tar.gz',\n",
    "            pbar.hook)\n",
    "\n",
    "if not isdir(cifar10_dataset_folder_path):\n",
    "    with tarfile.open('cifar-10-python.tar.gz') as tar:\n",
    "        tar.extractall()\n",
    "        tar.close()\n",
    "\n",
    "\n",
    "tests.test_folder_path(cifar10_dataset_folder_path)"
   ]
  },
  {
   "cell_type": "markdown",
   "metadata": {},
   "source": [
    "## Explore the Data\n",
    "The dataset is broken into batches to prevent your machine from running out of memory.  The CIFAR-10 dataset consists of 5 batches, named `data_batch_1`, `data_batch_2`, etc.. Each batch contains the labels and images that are one of the following:\n",
    "* airplane\n",
    "* automobile\n",
    "* bird\n",
    "* cat\n",
    "* deer\n",
    "* dog\n",
    "* frog\n",
    "* horse\n",
    "* ship\n",
    "* truck\n",
    "\n",
    "Understanding a dataset is part of making predictions on the data.  Play around with the code cell below by changing the `batch_id` and `sample_id`. The `batch_id` is the id for a batch (1-5). The `sample_id` is the id for a image and label pair in the batch.\n",
    "\n",
    "Ask yourself \"What are all possible labels?\", \"What is the range of values for the image data?\", \"Are the labels in order or random?\".  Answers to questions like these will help you preprocess the data and end up with better predictions."
   ]
  },
  {
   "cell_type": "code",
   "execution_count": 2,
   "metadata": {},
   "outputs": [
    {
     "name": "stdout",
     "output_type": "stream",
     "text": [
      "\n",
      "Stats of batch 1:\n",
      "Samples: 10000\n",
      "Label Counts: {0: 1005, 1: 974, 2: 1032, 3: 1016, 4: 999, 5: 937, 6: 1030, 7: 1001, 8: 1025, 9: 981}\n",
      "First 20 Labels: [6, 9, 9, 4, 1, 1, 2, 7, 8, 3, 4, 7, 7, 2, 9, 9, 9, 3, 2, 6]\n",
      "\n",
      "Example of Image 5:\n",
      "Image - Min Value: 0 Max Value: 252\n",
      "Image - Shape: (32, 32, 3)\n",
      "Label - Label Id: 1 Name: automobile\n"
     ]
    },
    {
     "data": {
      "image/png": "[encoded data removed]",
      "text/plain": [
       "<matplotlib.figure.Figure at 0x7f600fc66710>"
      ]
     },
     "metadata": {
      "image/png": {
       "height": 250,
       "width": 253
      }
     },
     "output_type": "display_data"
    }
   ],
   "source": [
    "%matplotlib inline\n",
    "%config InlineBackend.figure_format = 'retina'\n",
    "\n",
    "import helper\n",
    "import numpy as np\n",
    "\n",
    "# Explore the dataset\n",
    "batch_id = 1\n",
    "sample_id = 5\n",
    "helper.display_stats(cifar10_dataset_folder_path, batch_id, sample_id)"
   ]
  },
  {
   "cell_type": "markdown",
   "metadata": {},
   "source": [
    "## Implement Preprocess Functions\n",
    "### Normalize\n",
    "In the cell below, implement the `normalize` function to take in image data, `x`, and return it as a normalized Numpy array. The values should be in the range of 0 to 1, inclusive.  The return object should be the same shape as `x`."
   ]
  },
  {
   "cell_type": "code",
   "execution_count": 3,
   "metadata": {},
   "outputs": [
    {
     "name": "stdout",
     "output_type": "stream",
     "text": [
      "Tests Passed\n"
     ]
    }
   ],
   "source": [
    "def normalize(x):\n",
    "    \"\"\"\n",
    "    Normalize a list of sample image data in the range of 0 to 1\n",
    "    : x: List of image data.  The image shape is (32, 32, 3)\n",
    "    : return: Numpy array of normalize data\n",
    "    \"\"\"\n",
    "    # TODO: Implement Function\n",
    "    return x/255.0\n",
    "\n",
    "\n",
    "\"\"\"\n",
    "DON'T MODIFY ANYTHING IN THIS CELL THAT IS BELOW THIS LINE\n",
    "\"\"\"\n",
    "tests.test_normalize(normalize)"
   ]
  },
  {
   "cell_type": "markdown",
   "metadata": {},
   "source": [
    "### One-hot encode\n",
    "Just like the previous code cell, you'll be implementing a function for preprocessing.  This time, you'll implement the `one_hot_encode` function. The input, `x`, are a list of labels.  Implement the function to return the list of labels as One-Hot encoded Numpy array.  The possible values for labels are 0 to 9. The one-hot encoding function should return the same encoding for each value between each call to `one_hot_encode`.  Make sure to save the map of encodings outside the function.\n",
    "\n",
    "Hint: Don't reinvent the wheel."
   ]
  },
  {
   "cell_type": "code",
   "execution_count": 48,
   "metadata": {},
   "outputs": [
    {
     "name": "stdout",
     "output_type": "stream",
     "text": [
      "Tests Passed\n"
     ]
    }
   ],
   "source": [
    "from sklearn.preprocessing import LabelBinarizer\n",
    "\n",
    "def one_hot_encode(x):\n",
    "    \"\"\"\n",
    "    One hot encode a list of sample labels. Return a one-hot encoded vector for each label.\n",
    "    : x: List of sample Labels\n",
    "    : return: Numpy array of one-hot encoded labels\n",
    "    \"\"\"\n",
    "    # TODO: Implement Function\n",
    "    return np.eye(10, dtype=int)[x]\n",
    "\n",
    "\"\"\"\n",
    "DON'T MODIFY ANYTHING IN THIS CELL THAT IS BELOW THIS LINE\n",
    "\"\"\"\n",
    "tests.test_one_hot_encode(one_hot_encode)"
   ]
  },
  {
   "cell_type": "markdown",
   "metadata": {},
   "source": [
    "### Randomize Data\n",
    "As you saw from exploring the data above, the order of the samples are randomized.  It doesn't hurt to randomize it again, but you don't need to for this dataset."
   ]
  },
  {
   "cell_type": "markdown",
   "metadata": {},
   "source": [
    "## Preprocess all the data and save it\n",
    "Running the code cell below will preprocess all the CIFAR-10 data and save it to file. The code below also uses 10% of the training data for validation."
   ]
  },
  {
   "cell_type": "code",
   "execution_count": 49,
   "metadata": {
    "collapsed": true
   },
   "outputs": [],
   "source": [
    "\"\"\"\n",
    "DON'T MODIFY ANYTHING IN THIS CELL\n",
    "\"\"\"\n",
    "# Preprocess Training, Validation, and Testing Data\n",
    "helper.preprocess_and_save_data(cifar10_dataset_folder_path, normalize, one_hot_encode)"
   ]
  },
  {
   "cell_type": "markdown",
   "metadata": {},
   "source": [
    "# Check Point\n",
    "This is your first checkpoint.  If you ever decide to come back to this notebook or have to restart the notebook, you can start from here.  The preprocessed data has been saved to disk."
   ]
  },
  {
   "cell_type": "code",
   "execution_count": 50,
   "metadata": {
    "collapsed": true
   },
   "outputs": [],
   "source": [
    "\"\"\"\n",
    "DON'T MODIFY ANYTHING IN THIS CELL\n",
    "\"\"\"\n",
    "import pickle\n",
    "import problem_unittests as tests\n",
    "import helper\n",
    "\n",
    "# Load the Preprocessed Validation data\n",
    "valid_features, valid_labels = pickle.load(open('preprocess_validation.p', mode='rb'))"
   ]
  },
  {
   "cell_type": "markdown",
   "metadata": {},
   "source": [
    "## Build the network\n",
    "For the neural network, you'll build each layer into a function.  Most of the code you've seen has been outside of functions. To test your code more thoroughly, we require that you put each layer in a function.  This allows us to give you better feedback and test for simple mistakes using our unittests before you submit your project.\n",
    "\n",
    "If you're finding it hard to dedicate enough time for this course a week, we've provided a small shortcut to this part of the project. In the next couple of problems, you'll have the option to use [TensorFlow Layers](https://www.tensorflow.org/api_docs/python/tf/layers) or [TensorFlow Layers (contrib)](https://www.tensorflow.org/api_guides/python/contrib.layers) to build each layer, except \"Convolutional & Max Pooling\" layer.  TF Layers is similar to Keras's and TFLearn's abstraction to layers, so it's easy to pickup.\n",
    "\n",
    "If you would like to get the most of this course, try to solve all the problems without TF Layers.  Let's begin!\n",
    "### Input\n",
    "The neural network needs to read the image data, one-hot encoded labels, and dropout keep probability. Implement the following functions\n",
    "* Implement `neural_net_image_input`\n",
    " * Return a [TF Placeholder](https://www.tensorflow.org/api_docs/python/tf/placeholder)\n",
    " * Set the shape using `image_shape` with batch size set to `None`.\n",
    " * Name the TensorFlow placeholder \"x\" using the TensorFlow `name` parameter in the [TF Placeholder](https://www.tensorflow.org/api_docs/python/tf/placeholder).\n",
    "* Implement `neural_net_label_input`\n",
    " * Return a [TF Placeholder](https://www.tensorflow.org/api_docs/python/tf/placeholder)\n",
    " * Set the shape using `n_classes` with batch size set to `None`.\n",
    " * Name the TensorFlow placeholder \"y\" using the TensorFlow `name` parameter in the [TF Placeholder](https://www.tensorflow.org/api_docs/python/tf/placeholder).\n",
    "* Implement `neural_net_keep_prob_input`\n",
    " * Return a [TF Placeholder](https://www.tensorflow.org/api_docs/python/tf/placeholder) for dropout keep probability.\n",
    " * Name the TensorFlow placeholder \"keep_prob\" using the TensorFlow `name` parameter in the [TF Placeholder](https://www.tensorflow.org/api_docs/python/tf/placeholder).\n",
    "\n",
    "These names will be used at the end of the project to load your saved model.\n",
    "\n",
    "Note: `None` for shapes in TensorFlow allow for a dynamic size."
   ]
  },
  {
   "cell_type": "code",
   "execution_count": 51,
   "metadata": {},
   "outputs": [
    {
     "name": "stdout",
     "output_type": "stream",
     "text": [
      "Image Input Tests Passed.\n",
      "Label Input Tests Passed.\n",
      "Keep Prob Tests Passed.\n"
     ]
    }
   ],
   "source": [
    "import tensorflow as tf\n",
    "\n",
    "def neural_net_image_input(image_shape):\n",
    "    \"\"\"\n",
    "    Return a Tensor for a bach of image input\n",
    "    : image_shape: Shape of the images\n",
    "    : return: Tensor for image input.\n",
    "    \"\"\"\n",
    "    # TODO: Implement Function\n",
    "    (img_height, img_width, clr_cannels) = image_shape\n",
    "    x = tf.placeholder(tf.float32, shape=[None, img_height, img_width, clr_cannels], name='x')\n",
    "    return x\n",
    "\n",
    "\n",
    "def neural_net_label_input(n_classes):\n",
    "    \"\"\"\n",
    "    Return a Tensor for a batch of label input\n",
    "    : n_classes: Number of classes\n",
    "    : return: Tensor for label input.\n",
    "    \"\"\"\n",
    "    # TODO: Implement Function\n",
    "    y = tf.placeholder(tf.float32, shape=[None, n_classes], name='y')\n",
    "    return y\n",
    "\n",
    "\n",
    "def neural_net_keep_prob_input():\n",
    "    \"\"\"\n",
    "    Return a Tensor for keep probability\n",
    "    : return: Tensor for keep probability.\n",
    "    \"\"\"\n",
    "    # TODO: Implement Function\n",
    "    keep_prob = tf.placeholder(tf.float32, name='keep_prob')\n",
    "    return keep_prob\n",
    "\n",
    "\n",
    "\"\"\"\n",
    "DON'T MODIFY ANYTHING IN THIS CELL THAT IS BELOW THIS LINE\n",
    "\"\"\"\n",
    "tf.reset_default_graph()\n",
    "tests.test_nn_image_inputs(neural_net_image_input)\n",
    "tests.test_nn_label_inputs(neural_net_label_input)\n",
    "tests.test_nn_keep_prob_inputs(neural_net_keep_prob_input)"
   ]
  },
  {
   "cell_type": "markdown",
   "metadata": {},
   "source": [
    "### Convolution and Max Pooling Layer\n",
    "Convolution layers have a lot of success with images. For this code cell, you should implement the function `conv2d_maxpool` to apply convolution then max pooling:\n",
    "* Create the weight and bias using `conv_ksize`, `conv_num_outputs` and the shape of `x_tensor`.\n",
    "* Apply a convolution to `x_tensor` using weight and `conv_strides`.\n",
    " * We recommend you use same padding, but you're welcome to use any padding.\n",
    "* Add bias\n",
    "* Add a nonlinear activation to the convolution.\n",
    "* Apply Max Pooling using `pool_ksize` and `pool_strides`.\n",
    " * We recommend you use same padding, but you're welcome to use any padding.\n",
    "\n",
    "Note: You **can't** use [TensorFlow Layers](https://www.tensorflow.org/api_docs/python/tf/layers) or [TensorFlow Layers (contrib)](https://www.tensorflow.org/api_guides/python/contrib.layers) for this layer.  You're free to use any TensorFlow package for all the other layers."
   ]
  },
  {
   "cell_type": "code",
   "execution_count": 52,
   "metadata": {},
   "outputs": [
    {
     "name": "stdout",
     "output_type": "stream",
     "text": [
      "Tests Passed\n"
     ]
    }
   ],
   "source": [
    "def conv2d_maxpool(x_tensor, conv_num_outputs, conv_ksize, conv_strides, pool_ksize, pool_strides):\n",
    "    \"\"\"\n",
    "    Apply convolution then max pooling to x_tensor\n",
    "    :param x_tensor: TensorFlow Tensor\n",
    "    :param conv_num_outputs: Number of outputs for the convolutional layer\n",
    "    :param conv_ksize: kernal size 2-D Tuple for convolution\n",
    "    :param conv_strides: Stride 2-D Tuple for convolution\n",
    "    :param pool_ksize: kernal size 2-D Tuple for pool\n",
    "    :param pool_strides: Stride 2-D Tuple for pool\n",
    "    : return: A tensor that represents convolution and max pooling of x_tensor\n",
    "    \"\"\"\n",
    "    # TODO: Implement Function\n",
    "    (filter_height, filter_width) = conv_ksize\n",
    "    (_, _, _, color_channels_tn) = x_tensor.get_shape()\n",
    "    color_channels = int(color_channels_tn)\n",
    "    tf.truncated_normal([filter_height, filter_width, color_channels, conv_num_outputs], \n",
    "                                  stddev=0.01, dtype=tf.float32)\n",
    "    conv_weights = tf.Variable(tf.truncated_normal([filter_height, filter_width, color_channels, conv_num_outputs], \n",
    "                                  stddev=0.01, dtype=tf.float32))\n",
    "    conv_bias = tf.Variable(tf.zeros(conv_num_outputs))\n",
    "    \n",
    "    (cnv_stride_height, cnv_stride_width) = conv_strides\n",
    "    \n",
    "    conv_lr = tf.nn.conv2d(x_tensor, conv_weights, strides=[1, cnv_stride_height, cnv_stride_width, 1], padding='SAME')\n",
    "    conv_lr = tf.nn.bias_add(conv_lr, conv_bias)\n",
    "    conv_lr = tf.nn.relu(conv_lr)\n",
    "    \n",
    "    (pl_height, pl_width) = pool_ksize\n",
    "    (pl_stride_height, pl_stride_width) = pool_strides\n",
    "    \n",
    "    conv_lr = tf.nn.max_pool(conv_lr, ksize=[1, pl_height, pl_width, 1], \n",
    "                             strides=[1, pl_stride_height, pl_stride_width, 1], padding='SAME')\n",
    "    return conv_lr \n",
    "\n",
    "\n",
    "\"\"\"\n",
    "DON'T MODIFY ANYTHING IN THIS CELL THAT IS BELOW THIS LINE\n",
    "\"\"\"\n",
    "tests.test_con_pool(conv2d_maxpool)"
   ]
  },
  {
   "cell_type": "markdown",
   "metadata": {},
   "source": [
    "### Flatten Layer\n",
    "Implement the `flatten` function to change the dimension of `x_tensor` from a 4-D tensor to a 2-D tensor.  The output should be the shape (*Batch Size*, *Flattened Image Size*). You can use [TensorFlow Layers](https://www.tensorflow.org/api_docs/python/tf/layers) or [TensorFlow Layers (contrib)](https://www.tensorflow.org/api_guides/python/contrib.layers) for this layer."
   ]
  },
  {
   "cell_type": "code",
   "execution_count": 53,
   "metadata": {},
   "outputs": [
    {
     "name": "stdout",
     "output_type": "stream",
     "text": [
      "Tests Passed\n"
     ]
    }
   ],
   "source": [
    "def flatten(x_tensor):\n",
    "    \"\"\"\n",
    "    Flatten x_tensor to (Batch Size, Flattened Image Size)\n",
    "    : x_tensor: A tensor of size (Batch Size, ...), where ... are the image dimensions.\n",
    "    : return: A tensor of size (Batch Size, Flattened Image Size).\n",
    "    \"\"\"\n",
    "    # TODO: Implement Function\n",
    "    return tf.contrib.layers.flatten(x_tensor)\n",
    "\n",
    "\n",
    "\"\"\"\n",
    "DON'T MODIFY ANYTHING IN THIS CELL THAT IS BELOW THIS LINE\n",
    "\"\"\"\n",
    "tests.test_flatten(flatten)"
   ]
  },
  {
   "cell_type": "markdown",
   "metadata": {},
   "source": [
    "### Fully-Connected Layer\n",
    "Implement the `fully_conn` function to apply a fully connected layer to `x_tensor` with the shape (*Batch Size*, *num_outputs*). You can use [TensorFlow Layers](https://www.tensorflow.org/api_docs/python/tf/layers) or [TensorFlow Layers (contrib)](https://www.tensorflow.org/api_guides/python/contrib.layers) for this layer."
   ]
  },
  {
   "cell_type": "code",
   "execution_count": 54,
   "metadata": {},
   "outputs": [
    {
     "name": "stdout",
     "output_type": "stream",
     "text": [
      "Tests Passed\n"
     ]
    }
   ],
   "source": [
    "def fully_conn(x_tensor, num_outputs):\n",
    "    \"\"\"\n",
    "    Apply a fully connected layer to x_tensor using weight and bias\n",
    "    : x_tensor: A 2-D tensor where the first dimension is batch size.\n",
    "    : num_outputs: The number of output that the new tensor should be.\n",
    "    : return: A 2-D tensor where the second dimension is num_outputs.\n",
    "    \"\"\"\n",
    "    # TODO: Implement Function\n",
    "    (_, fc_input_tn) = x_tensor.get_shape()\n",
    "    fc_inputs = int(fc_input_tn)\n",
    "    fc_weights = tf.Variable(tf.truncated_normal([fc_inputs, num_outputs], \n",
    "                                  stddev=0.01, dtype=tf.float32))\n",
    "    fc_bias = tf.Variable(tf.zeros(num_outputs))\n",
    "    \n",
    "    fc_lr = tf.matmul(x_tensor, fc_weights) + fc_bias\n",
    "    fc_lr = tf.nn.relu(fc_lr)\n",
    "    return fc_lr\n",
    "\n",
    "\n",
    "\"\"\"\n",
    "DON'T MODIFY ANYTHING IN THIS CELL THAT IS BELOW THIS LINE\n",
    "\"\"\"\n",
    "tests.test_fully_conn(fully_conn)"
   ]
  },
  {
   "cell_type": "markdown",
   "metadata": {},
   "source": [
    "### Output Layer\n",
    "Implement the `output` function to apply a fully connected layer to `x_tensor` with the shape (*Batch Size*, *num_outputs*). You can use [TensorFlow Layers](https://www.tensorflow.org/api_docs/python/tf/layers) or [TensorFlow Layers (contrib)](https://www.tensorflow.org/api_guides/python/contrib.layers) for this layer.\n",
    "\n",
    "Note: Activation, softmax, or cross entropy shouldn't be applied to this."
   ]
  },
  {
   "cell_type": "code",
   "execution_count": 55,
   "metadata": {},
   "outputs": [
    {
     "name": "stdout",
     "output_type": "stream",
     "text": [
      "Tests Passed\n"
     ]
    }
   ],
   "source": [
    "def output(x_tensor, num_outputs):\n",
    "    \"\"\"\n",
    "    Apply a output layer to x_tensor using weight and bias\n",
    "    : x_tensor: A 2-D tensor where the first dimension is batch size.\n",
    "    : num_outputs: The number of output that the new tensor should be.\n",
    "    : return: A 2-D tensor where the second dimension is num_outputs.\n",
    "    \"\"\"\n",
    "    # TODO: Implement Function\n",
    "    (_, out_input_tn) = x_tensor.get_shape()\n",
    "    out_inputs = int(out_input_tn)\n",
    "    out_weights = tf.Variable(tf.truncated_normal([out_inputs, num_outputs], \n",
    "                                  stddev=0.01, dtype=tf.float32))\n",
    "    out_bias = tf.Variable(tf.zeros(num_outputs))\n",
    "    \n",
    "    fc_lr = tf.matmul(x_tensor, out_weights) + out_bias\n",
    "    return fc_lr\n",
    "\n",
    "\n",
    "\"\"\"\n",
    "DON'T MODIFY ANYTHING IN THIS CELL THAT IS BELOW THIS LINE\n",
    "\"\"\"\n",
    "tests.test_output(output)"
   ]
  },
  {
   "cell_type": "markdown",
   "metadata": {},
   "source": [
    "### Create Convolutional Model\n",
    "Implement the function `conv_net` to create a convolutional neural network model. The function takes in a batch of images, `x`, and outputs logits.  Use the layers you created above to create this model:\n",
    "\n",
    "* Apply 1, 2, or 3 Convolution and Max Pool layers\n",
    "* Apply a Flatten Layer\n",
    "* Apply 1, 2, or 3 Fully Connected Layers\n",
    "* Apply an Output Layer\n",
    "* Return the output\n",
    "* Apply [TensorFlow's Dropout](https://www.tensorflow.org/api_docs/python/tf/nn/dropout) to one or more layers in the model using `keep_prob`. "
   ]
  },
  {
   "cell_type": "code",
   "execution_count": 56,
   "metadata": {},
   "outputs": [
    {
     "name": "stdout",
     "output_type": "stream",
     "text": [
      "Neural Network Built!\n"
     ]
    }
   ],
   "source": [
    "def conv_net(x, keep_prob):\n",
    "    \"\"\"\n",
    "    Create a convolutional neural network model\n",
    "    : x: Placeholder tensor that holds image data.\n",
    "    : keep_prob: Placeholder tensor that hold dropout keep probability.\n",
    "    : return: Tensor that represents logits\n",
    "    \"\"\"\n",
    "    # TODO: Apply 1, 2, or 3 Convolution and Max Pool layers\n",
    "    #    Play around with different number of outputs, kernel size and stride\n",
    "    # Function Definition from Above:\n",
    "    #    conv2d_maxpool(x_tensor, conv_num_outputs, conv_ksize, conv_strides, pool_ksize, pool_strides)\n",
    "    conv = conv2d_maxpool(x, 32, (3, 3), (1, 1), (2, 2), (2, 2))\n",
    "    conv = conv2d_maxpool(conv, 32, (3, 3), (1, 1), (2, 2), (2, 2))\n",
    "    conv = conv2d_maxpool(conv, 64, (3, 3), (1, 1), (2, 2), (2, 2))\n",
    "\n",
    "    # TODO: Apply a Flatten Layer\n",
    "    # Function Definition from Above:\n",
    "    #   flatten(x_tensor)\n",
    "    flt = flatten(conv)\n",
    "    \n",
    "\n",
    "    # TODO: Apply 1, 2, or 3 Fully Connected Layers\n",
    "    #    Play around with different number of outputs\n",
    "    # Function Definition from Above:\n",
    "    #   fully_conn(x_tensor, num_outputs)\n",
    "    (_, num_outs_tn) = flt.get_shape()\n",
    "    num_outs = int(num_outs_tn)\n",
    "    fc = fully_conn(flt, num_outs)\n",
    "    fc = tf.nn.dropout(fc, keep_prob)\n",
    "    fc = fully_conn(fc, num_outs)\n",
    "    fc = tf.nn.dropout(fc, keep_prob)\n",
    "    \n",
    "    \n",
    "    # TODO: Apply an Output Layer\n",
    "    #    Set this to the number of classes\n",
    "    # Function Definition from Above:\n",
    "    #   output(x_tensor, num_outputs)\n",
    "    logits = output(fc, 10)\n",
    "    \n",
    "    \n",
    "    # TODO: return output\n",
    "    return logits\n",
    "\n",
    "\n",
    "\"\"\"\n",
    "DON'T MODIFY ANYTHING IN THIS CELL THAT IS BELOW THIS LINE\n",
    "\"\"\"\n",
    "\n",
    "##############################\n",
    "## Build the Neural Network ##\n",
    "##############################\n",
    "\n",
    "# Remove previous weights, bias, inputs, etc..\n",
    "tf.reset_default_graph()\n",
    "\n",
    "# Inputs\n",
    "x = neural_net_image_input((32, 32, 3))\n",
    "y = neural_net_label_input(10)\n",
    "keep_prob = neural_net_keep_prob_input()\n",
    "\n",
    "# Model\n",
    "logits = conv_net(x, keep_prob)\n",
    "\n",
    "# Name logits Tensor, so that is can be loaded from disk after training\n",
    "logits = tf.identity(logits, name='logits')\n",
    "\n",
    "# Loss and Optimizer\n",
    "cost = tf.reduce_mean(tf.nn.softmax_cross_entropy_with_logits(logits=logits, labels=y))\n",
    "optimizer = tf.train.AdamOptimizer().minimize(cost)\n",
    "\n",
    "# Accuracy\n",
    "correct_pred = tf.equal(tf.argmax(logits, 1), tf.argmax(y, 1))\n",
    "accuracy = tf.reduce_mean(tf.cast(correct_pred, tf.float32), name='accuracy')\n",
    "\n",
    "tests.test_conv_net(conv_net)"
   ]
  },
  {
   "cell_type": "markdown",
   "metadata": {},
   "source": [
    "## Train the Neural Network\n",
    "### Single Optimization\n",
    "Implement the function `train_neural_network` to do a single optimization.  The optimization should use `optimizer` to optimize in `session` with a `feed_dict` of the following:\n",
    "* `x` for image input\n",
    "* `y` for labels\n",
    "* `keep_prob` for keep probability for dropout\n",
    "\n",
    "This function will be called for each batch, so `tf.global_variables_initializer()` has already been called.\n",
    "\n",
    "Note: Nothing needs to be returned. This function is only optimizing the neural network."
   ]
  },
  {
   "cell_type": "code",
   "execution_count": 57,
   "metadata": {},
   "outputs": [
    {
     "name": "stdout",
     "output_type": "stream",
     "text": [
      "Tests Passed\n"
     ]
    }
   ],
   "source": [
    "def train_neural_network(session, optimizer, keep_probability, feature_batch, label_batch):\n",
    "    \"\"\"\n",
    "    Optimize the session on a batch of images and labels\n",
    "    : session: Current TensorFlow session\n",
    "    : optimizer: TensorFlow optimizer function\n",
    "    : keep_probability: keep probability\n",
    "    : feature_batch: Batch of Numpy image data\n",
    "    : label_batch: Batch of Numpy label data\n",
    "    \"\"\"\n",
    "    # TODO: Implement Function\n",
    "    session.run(optimizer, feed_dict={\n",
    "                x: feature_batch,\n",
    "                y: label_batch,\n",
    "                keep_prob: keep_probability})\n",
    "\n",
    "\n",
    "\"\"\"\n",
    "DON'T MODIFY ANYTHING IN THIS CELL THAT IS BELOW THIS LINE\n",
    "\"\"\"\n",
    "tests.test_train_nn(train_neural_network)"
   ]
  },
  {
   "cell_type": "markdown",
   "metadata": {},
   "source": [
    "### Show Stats\n",
    "Implement the function `print_stats` to print loss and validation accuracy.  Use the global variables `valid_features` and `valid_labels` to calculate validation accuracy.  Use a keep probability of `1.0` to calculate the loss and validation accuracy."
   ]
  },
  {
   "cell_type": "code",
   "execution_count": 58,
   "metadata": {
    "collapsed": true
   },
   "outputs": [],
   "source": [
    "def print_stats(session, feature_batch, label_batch, cost, accuracy):\n",
    "    \"\"\"\n",
    "    Print information about loss and validation accuracy\n",
    "    : session: Current TensorFlow session\n",
    "    : feature_batch: Batch of Numpy image data\n",
    "    : label_batch: Batch of Numpy label data\n",
    "    : cost: TensorFlow cost function\n",
    "    : accuracy: TensorFlow accuracy function\n",
    "    \"\"\"\n",
    "    # TODO: Implement Function\n",
    "    loss = session.run(cost, feed_dict={\n",
    "                x: feature_batch,\n",
    "                y: label_batch,\n",
    "                keep_prob: 1.})\n",
    "    valid_acc = session.run(accuracy, feed_dict={\n",
    "                x: valid_features,\n",
    "                y: valid_labels,\n",
    "                keep_prob: 1.})\n",
    "    print('Loss: {:>10.4f} Validation Accuracy: {:.6f}'.format(loss, valid_acc))"
   ]
  },
  {
   "cell_type": "markdown",
   "metadata": {},
   "source": [
    "### Hyperparameters\n",
    "Tune the following parameters:\n",
    "* Set `epochs` to the number of iterations until the network stops learning or start overfitting\n",
    "* Set `batch_size` to the highest number that your machine has memory for.  Most people set them to common sizes of memory:\n",
    " * 64\n",
    " * 128\n",
    " * 256\n",
    " * ...\n",
    "* Set `keep_probability` to the probability of keeping a node using dropout"
   ]
  },
  {
   "cell_type": "code",
   "execution_count": 63,
   "metadata": {
    "collapsed": true
   },
   "outputs": [],
   "source": [
    "# TODO: Tune Parameters\n",
    "epochs = 26\n",
    "batch_size = 256\n",
    "keep_probability = 0.25"
   ]
  },
  {
   "cell_type": "markdown",
   "metadata": {},
   "source": [
    "### Train on a Single CIFAR-10 Batch\n",
    "Instead of training the neural network on all the CIFAR-10 batches of data, let's use a single batch. This should save time while you iterate on the model to get a better accuracy.  Once the final validation accuracy is 50% or greater, run the model on all the data in the next section."
   ]
  },
  {
   "cell_type": "code",
   "execution_count": 64,
   "metadata": {},
   "outputs": [
    {
     "name": "stdout",
     "output_type": "stream",
     "text": [
      "Checking the Training on a Single Batch...\n",
      "Epoch  1, CIFAR-10 Batch 1:  Loss:     2.3015 Validation Accuracy: 0.105000\n",
      "Epoch  2, CIFAR-10 Batch 1:  Loss:     2.2601 Validation Accuracy: 0.180200\n",
      "Epoch  3, CIFAR-10 Batch 1:  Loss:     2.1999 Validation Accuracy: 0.235200\n",
      "Epoch  4, CIFAR-10 Batch 1:  Loss:     2.1872 Validation Accuracy: 0.261000\n",
      "Epoch  5, CIFAR-10 Batch 1:  Loss:     2.1529 Validation Accuracy: 0.284800\n",
      "Epoch  6, CIFAR-10 Batch 1:  Loss:     2.1116 Validation Accuracy: 0.293400\n",
      "Epoch  7, CIFAR-10 Batch 1:  Loss:     2.0661 Validation Accuracy: 0.297800\n",
      "Epoch  8, CIFAR-10 Batch 1:  Loss:     1.9831 Validation Accuracy: 0.315000\n",
      "Epoch  9, CIFAR-10 Batch 1:  Loss:     1.8946 Validation Accuracy: 0.346200\n",
      "Epoch 10, CIFAR-10 Batch 1:  Loss:     1.8142 Validation Accuracy: 0.353000\n",
      "Epoch 11, CIFAR-10 Batch 1:  Loss:     1.7182 Validation Accuracy: 0.361200\n",
      "Epoch 12, CIFAR-10 Batch 1:  Loss:     1.6551 Validation Accuracy: 0.385000\n",
      "Epoch 13, CIFAR-10 Batch 1:  Loss:     1.6176 Validation Accuracy: 0.407000\n",
      "Epoch 14, CIFAR-10 Batch 1:  Loss:     1.5525 Validation Accuracy: 0.425200\n",
      "Epoch 15, CIFAR-10 Batch 1:  Loss:     1.5270 Validation Accuracy: 0.425400\n",
      "Epoch 16, CIFAR-10 Batch 1:  Loss:     1.4832 Validation Accuracy: 0.439800\n",
      "Epoch 17, CIFAR-10 Batch 1:  Loss:     1.4502 Validation Accuracy: 0.448400\n",
      "Epoch 18, CIFAR-10 Batch 1:  Loss:     1.4741 Validation Accuracy: 0.421200\n",
      "Epoch 19, CIFAR-10 Batch 1:  Loss:     1.3959 Validation Accuracy: 0.455600\n",
      "Epoch 20, CIFAR-10 Batch 1:  Loss:     1.4029 Validation Accuracy: 0.453800\n",
      "Epoch 21, CIFAR-10 Batch 1:  Loss:     1.3589 Validation Accuracy: 0.447000\n",
      "Epoch 22, CIFAR-10 Batch 1:  Loss:     1.3590 Validation Accuracy: 0.464800\n",
      "Epoch 23, CIFAR-10 Batch 1:  Loss:     1.3388 Validation Accuracy: 0.452000\n",
      "Epoch 24, CIFAR-10 Batch 1:  Loss:     1.2888 Validation Accuracy: 0.465600\n",
      "Epoch 25, CIFAR-10 Batch 1:  Loss:     1.2495 Validation Accuracy: 0.461800\n",
      "Epoch 26, CIFAR-10 Batch 1:  Loss:     1.2564 Validation Accuracy: 0.474600\n"
     ]
    }
   ],
   "source": [
    "\"\"\"\n",
    "DON'T MODIFY ANYTHING IN THIS CELL\n",
    "\"\"\"\n",
    "print('Checking the Training on a Single Batch...')\n",
    "with tf.Session() as sess:\n",
    "    # Initializing the variables\n",
    "    sess.run(tf.global_variables_initializer())\n",
    "    \n",
    "    # Training cycle\n",
    "    for epoch in range(epochs):\n",
    "        batch_i = 1\n",
    "        for batch_features, batch_labels in helper.load_preprocess_training_batch(batch_i, batch_size):\n",
    "            train_neural_network(sess, optimizer, keep_probability, batch_features, batch_labels)\n",
    "        print('Epoch {:>2}, CIFAR-10 Batch {}:  '.format(epoch + 1, batch_i), end='')\n",
    "        print_stats(sess, batch_features, batch_labels, cost, accuracy)"
   ]
  },
  {
   "cell_type": "markdown",
   "metadata": {},
   "source": [
    "### Fully Train the Model\n",
    "Now that you got a good accuracy with a single CIFAR-10 batch, try it with all five batches."
   ]
  },
  {
   "cell_type": "code",
   "execution_count": 65,
   "metadata": {},
   "outputs": [
    {
     "name": "stdout",
     "output_type": "stream",
     "text": [
      "Training...\n",
      "Epoch  1, CIFAR-10 Batch 1:  Loss:     2.3036 Validation Accuracy: 0.099800\n",
      "Epoch  1, CIFAR-10 Batch 2:  Loss:     2.2775 Validation Accuracy: 0.173000\n",
      "Epoch  1, CIFAR-10 Batch 3:  Loss:     1.9108 Validation Accuracy: 0.213200\n",
      "Epoch  1, CIFAR-10 Batch 4:  Loss:     2.0225 Validation Accuracy: 0.259000\n",
      "Epoch  1, CIFAR-10 Batch 5:  Loss:     2.0394 Validation Accuracy: 0.282800\n",
      "Epoch  2, CIFAR-10 Batch 1:  Loss:     2.1084 Validation Accuracy: 0.310800\n",
      "Epoch  2, CIFAR-10 Batch 2:  Loss:     1.9401 Validation Accuracy: 0.328400\n",
      "Epoch  2, CIFAR-10 Batch 3:  Loss:     1.6287 Validation Accuracy: 0.329200\n",
      "Epoch  2, CIFAR-10 Batch 4:  Loss:     1.6333 Validation Accuracy: 0.349400\n",
      "Epoch  2, CIFAR-10 Batch 5:  Loss:     1.8112 Validation Accuracy: 0.362400\n",
      "Epoch  3, CIFAR-10 Batch 1:  Loss:     1.8518 Validation Accuracy: 0.392600\n",
      "Epoch  3, CIFAR-10 Batch 2:  Loss:     1.8012 Validation Accuracy: 0.413000\n",
      "Epoch  3, CIFAR-10 Batch 3:  Loss:     1.3915 Validation Accuracy: 0.417400\n",
      "Epoch  3, CIFAR-10 Batch 4:  Loss:     1.5310 Validation Accuracy: 0.431800\n",
      "Epoch  3, CIFAR-10 Batch 5:  Loss:     1.6422 Validation Accuracy: 0.435800\n",
      "Epoch  4, CIFAR-10 Batch 1:  Loss:     1.7217 Validation Accuracy: 0.429600\n",
      "Epoch  4, CIFAR-10 Batch 2:  Loss:     1.5420 Validation Accuracy: 0.445200\n",
      "Epoch  4, CIFAR-10 Batch 3:  Loss:     1.2491 Validation Accuracy: 0.448600\n",
      "Epoch  4, CIFAR-10 Batch 4:  Loss:     1.4639 Validation Accuracy: 0.481400\n",
      "Epoch  4, CIFAR-10 Batch 5:  Loss:     1.5183 Validation Accuracy: 0.464600\n",
      "Epoch  5, CIFAR-10 Batch 1:  Loss:     1.5531 Validation Accuracy: 0.479600\n",
      "Epoch  5, CIFAR-10 Batch 2:  Loss:     1.3393 Validation Accuracy: 0.487800\n",
      "Epoch  5, CIFAR-10 Batch 3:  Loss:     1.1168 Validation Accuracy: 0.473400\n",
      "Epoch  5, CIFAR-10 Batch 4:  Loss:     1.3613 Validation Accuracy: 0.504000\n",
      "Epoch  5, CIFAR-10 Batch 5:  Loss:     1.4694 Validation Accuracy: 0.492800\n",
      "Epoch  6, CIFAR-10 Batch 1:  Loss:     1.4850 Validation Accuracy: 0.513200\n",
      "Epoch  6, CIFAR-10 Batch 2:  Loss:     1.2175 Validation Accuracy: 0.517200\n",
      "Epoch  6, CIFAR-10 Batch 3:  Loss:     1.0417 Validation Accuracy: 0.512000\n",
      "Epoch  6, CIFAR-10 Batch 4:  Loss:     1.2561 Validation Accuracy: 0.524000\n",
      "Epoch  6, CIFAR-10 Batch 5:  Loss:     1.3674 Validation Accuracy: 0.505800\n",
      "Epoch  7, CIFAR-10 Batch 1:  Loss:     1.4150 Validation Accuracy: 0.533800\n",
      "Epoch  7, CIFAR-10 Batch 2:  Loss:     1.0882 Validation Accuracy: 0.535200\n",
      "Epoch  7, CIFAR-10 Batch 3:  Loss:     0.9694 Validation Accuracy: 0.542400\n",
      "Epoch  7, CIFAR-10 Batch 4:  Loss:     1.1361 Validation Accuracy: 0.550800\n",
      "Epoch  7, CIFAR-10 Batch 5:  Loss:     1.2310 Validation Accuracy: 0.542400\n",
      "Epoch  8, CIFAR-10 Batch 1:  Loss:     1.2897 Validation Accuracy: 0.557200\n",
      "Epoch  8, CIFAR-10 Batch 2:  Loss:     1.0537 Validation Accuracy: 0.543000\n",
      "Epoch  8, CIFAR-10 Batch 3:  Loss:     0.8846 Validation Accuracy: 0.561800\n",
      "Epoch  8, CIFAR-10 Batch 4:  Loss:     1.0950 Validation Accuracy: 0.565000\n",
      "Epoch  8, CIFAR-10 Batch 5:  Loss:     1.1225 Validation Accuracy: 0.560000\n",
      "Epoch  9, CIFAR-10 Batch 1:  Loss:     1.2321 Validation Accuracy: 0.565400\n",
      "Epoch  9, CIFAR-10 Batch 2:  Loss:     1.0243 Validation Accuracy: 0.554800\n",
      "Epoch  9, CIFAR-10 Batch 3:  Loss:     0.8701 Validation Accuracy: 0.568800\n",
      "Epoch  9, CIFAR-10 Batch 4:  Loss:     1.0191 Validation Accuracy: 0.576600\n",
      "Epoch  9, CIFAR-10 Batch 5:  Loss:     1.0512 Validation Accuracy: 0.571400\n",
      "Epoch 10, CIFAR-10 Batch 1:  Loss:     1.2772 Validation Accuracy: 0.568400\n",
      "Epoch 10, CIFAR-10 Batch 2:  Loss:     0.9883 Validation Accuracy: 0.577600\n",
      "Epoch 10, CIFAR-10 Batch 3:  Loss:     0.7897 Validation Accuracy: 0.590800\n",
      "Epoch 10, CIFAR-10 Batch 4:  Loss:     0.9445 Validation Accuracy: 0.587400\n",
      "Epoch 10, CIFAR-10 Batch 5:  Loss:     0.9276 Validation Accuracy: 0.578400\n",
      "Epoch 11, CIFAR-10 Batch 1:  Loss:     1.1146 Validation Accuracy: 0.592000\n",
      "Epoch 11, CIFAR-10 Batch 2:  Loss:     0.9137 Validation Accuracy: 0.592200\n",
      "Epoch 11, CIFAR-10 Batch 3:  Loss:     0.7534 Validation Accuracy: 0.594800\n",
      "Epoch 11, CIFAR-10 Batch 4:  Loss:     0.8676 Validation Accuracy: 0.599600\n",
      "Epoch 11, CIFAR-10 Batch 5:  Loss:     0.8865 Validation Accuracy: 0.593000\n",
      "Epoch 12, CIFAR-10 Batch 1:  Loss:     1.0402 Validation Accuracy: 0.581000\n",
      "Epoch 12, CIFAR-10 Batch 2:  Loss:     0.8686 Validation Accuracy: 0.594600\n",
      "Epoch 12, CIFAR-10 Batch 3:  Loss:     0.7152 Validation Accuracy: 0.597000\n",
      "Epoch 12, CIFAR-10 Batch 4:  Loss:     0.8485 Validation Accuracy: 0.605200\n",
      "Epoch 12, CIFAR-10 Batch 5:  Loss:     0.9149 Validation Accuracy: 0.583000\n",
      "Epoch 13, CIFAR-10 Batch 1:  Loss:     0.9902 Validation Accuracy: 0.587600\n",
      "Epoch 13, CIFAR-10 Batch 2:  Loss:     0.8715 Validation Accuracy: 0.606400\n",
      "Epoch 13, CIFAR-10 Batch 3:  Loss:     0.6823 Validation Accuracy: 0.605400\n",
      "Epoch 13, CIFAR-10 Batch 4:  Loss:     0.7905 Validation Accuracy: 0.610000\n",
      "Epoch 13, CIFAR-10 Batch 5:  Loss:     0.7719 Validation Accuracy: 0.611600\n",
      "Epoch 14, CIFAR-10 Batch 1:  Loss:     0.9819 Validation Accuracy: 0.595600\n",
      "Epoch 14, CIFAR-10 Batch 2:  Loss:     0.7944 Validation Accuracy: 0.624400\n",
      "Epoch 14, CIFAR-10 Batch 3:  Loss:     0.6187 Validation Accuracy: 0.621200\n",
      "Epoch 14, CIFAR-10 Batch 4:  Loss:     0.7358 Validation Accuracy: 0.625000\n",
      "Epoch 14, CIFAR-10 Batch 5:  Loss:     0.7236 Validation Accuracy: 0.614400\n",
      "Epoch 15, CIFAR-10 Batch 1:  Loss:     0.8705 Validation Accuracy: 0.614800\n",
      "Epoch 15, CIFAR-10 Batch 2:  Loss:     0.7853 Validation Accuracy: 0.630800\n",
      "Epoch 15, CIFAR-10 Batch 3:  Loss:     0.6136 Validation Accuracy: 0.629400\n",
      "Epoch 15, CIFAR-10 Batch 4:  Loss:     0.7013 Validation Accuracy: 0.629600\n",
      "Epoch 15, CIFAR-10 Batch 5:  Loss:     0.6900 Validation Accuracy: 0.622000\n",
      "Epoch 16, CIFAR-10 Batch 1:  Loss:     0.8448 Validation Accuracy: 0.621600\n",
      "Epoch 16, CIFAR-10 Batch 2:  Loss:     0.7145 Validation Accuracy: 0.624200\n",
      "Epoch 16, CIFAR-10 Batch 3:  Loss:     0.5872 Validation Accuracy: 0.622200\n",
      "Epoch 16, CIFAR-10 Batch 4:  Loss:     0.6472 Validation Accuracy: 0.633800\n",
      "Epoch 16, CIFAR-10 Batch 5:  Loss:     0.6978 Validation Accuracy: 0.621800\n",
      "Epoch 17, CIFAR-10 Batch 1:  Loss:     0.8149 Validation Accuracy: 0.607800\n",
      "Epoch 17, CIFAR-10 Batch 2:  Loss:     0.7172 Validation Accuracy: 0.638200\n",
      "Epoch 17, CIFAR-10 Batch 3:  Loss:     0.5492 Validation Accuracy: 0.633400\n",
      "Epoch 17, CIFAR-10 Batch 4:  Loss:     0.6305 Validation Accuracy: 0.633400\n",
      "Epoch 17, CIFAR-10 Batch 5:  Loss:     0.6214 Validation Accuracy: 0.636000\n",
      "Epoch 18, CIFAR-10 Batch 1:  Loss:     0.7742 Validation Accuracy: 0.619800\n",
      "Epoch 18, CIFAR-10 Batch 2:  Loss:     0.7046 Validation Accuracy: 0.639800\n",
      "Epoch 18, CIFAR-10 Batch 3:  Loss:     0.5503 Validation Accuracy: 0.636800\n",
      "Epoch 18, CIFAR-10 Batch 4:  Loss:     0.6259 Validation Accuracy: 0.638600\n",
      "Epoch 18, CIFAR-10 Batch 5:  Loss:     0.5681 Validation Accuracy: 0.634800\n",
      "Epoch 19, CIFAR-10 Batch 1:  Loss:     0.7398 Validation Accuracy: 0.620000\n",
      "Epoch 19, CIFAR-10 Batch 2:  Loss:     0.6609 Validation Accuracy: 0.642000\n",
      "Epoch 19, CIFAR-10 Batch 3:  Loss:     0.4464 Validation Accuracy: 0.649800\n",
      "Epoch 19, CIFAR-10 Batch 4:  Loss:     0.5802 Validation Accuracy: 0.644600\n",
      "Epoch 19, CIFAR-10 Batch 5:  Loss:     0.5624 Validation Accuracy: 0.639200\n",
      "Epoch 20, CIFAR-10 Batch 1:  Loss:     0.6683 Validation Accuracy: 0.638000\n",
      "Epoch 20, CIFAR-10 Batch 2:  Loss:     0.6448 Validation Accuracy: 0.646000\n",
      "Epoch 20, CIFAR-10 Batch 3:  Loss:     0.4731 Validation Accuracy: 0.654400\n",
      "Epoch 20, CIFAR-10 Batch 4:  Loss:     0.5740 Validation Accuracy: 0.649200\n",
      "Epoch 20, CIFAR-10 Batch 5:  Loss:     0.5401 Validation Accuracy: 0.641200\n",
      "Epoch 21, CIFAR-10 Batch 1:  Loss:     0.6158 Validation Accuracy: 0.652800\n",
      "Epoch 21, CIFAR-10 Batch 2:  Loss:     0.5925 Validation Accuracy: 0.651200\n",
      "Epoch 21, CIFAR-10 Batch 3:  Loss:     0.4162 Validation Accuracy: 0.653800\n",
      "Epoch 21, CIFAR-10 Batch 4:  Loss:     0.5613 Validation Accuracy: 0.640000\n",
      "Epoch 21, CIFAR-10 Batch 5:  Loss:     0.5109 Validation Accuracy: 0.646800\n",
      "Epoch 22, CIFAR-10 Batch 1:  Loss:     0.5970 Validation Accuracy: 0.654000\n",
      "Epoch 22, CIFAR-10 Batch 2:  Loss:     0.5945 Validation Accuracy: 0.650200\n",
      "Epoch 22, CIFAR-10 Batch 3:  Loss:     0.4322 Validation Accuracy: 0.653800\n"
     ]
    },
    {
     "name": "stdout",
     "output_type": "stream",
     "text": [
      "Epoch 22, CIFAR-10 Batch 4:  Loss:     0.5362 Validation Accuracy: 0.649600\n",
      "Epoch 22, CIFAR-10 Batch 5:  Loss:     0.4896 Validation Accuracy: 0.645000\n",
      "Epoch 23, CIFAR-10 Batch 1:  Loss:     0.5969 Validation Accuracy: 0.657400\n",
      "Epoch 23, CIFAR-10 Batch 2:  Loss:     0.6126 Validation Accuracy: 0.649400\n",
      "Epoch 23, CIFAR-10 Batch 3:  Loss:     0.4249 Validation Accuracy: 0.660000\n",
      "Epoch 23, CIFAR-10 Batch 4:  Loss:     0.4800 Validation Accuracy: 0.670200\n",
      "Epoch 23, CIFAR-10 Batch 5:  Loss:     0.4476 Validation Accuracy: 0.651800\n",
      "Epoch 24, CIFAR-10 Batch 1:  Loss:     0.5537 Validation Accuracy: 0.662800\n",
      "Epoch 24, CIFAR-10 Batch 2:  Loss:     0.5589 Validation Accuracy: 0.658600\n",
      "Epoch 24, CIFAR-10 Batch 3:  Loss:     0.4127 Validation Accuracy: 0.663000\n",
      "Epoch 24, CIFAR-10 Batch 4:  Loss:     0.4838 Validation Accuracy: 0.665800\n",
      "Epoch 24, CIFAR-10 Batch 5:  Loss:     0.4349 Validation Accuracy: 0.660600\n",
      "Epoch 25, CIFAR-10 Batch 1:  Loss:     0.5214 Validation Accuracy: 0.666400\n",
      "Epoch 25, CIFAR-10 Batch 2:  Loss:     0.5394 Validation Accuracy: 0.657800\n",
      "Epoch 25, CIFAR-10 Batch 3:  Loss:     0.3674 Validation Accuracy: 0.664800\n",
      "Epoch 25, CIFAR-10 Batch 4:  Loss:     0.4372 Validation Accuracy: 0.663000\n",
      "Epoch 25, CIFAR-10 Batch 5:  Loss:     0.4279 Validation Accuracy: 0.650800\n",
      "Epoch 26, CIFAR-10 Batch 1:  Loss:     0.5749 Validation Accuracy: 0.642600\n",
      "Epoch 26, CIFAR-10 Batch 2:  Loss:     0.5232 Validation Accuracy: 0.666400\n",
      "Epoch 26, CIFAR-10 Batch 3:  Loss:     0.4356 Validation Accuracy: 0.642200\n",
      "Epoch 26, CIFAR-10 Batch 4:  Loss:     0.4716 Validation Accuracy: 0.672800\n",
      "Epoch 26, CIFAR-10 Batch 5:  Loss:     0.3950 Validation Accuracy: 0.663000\n"
     ]
    }
   ],
   "source": [
    "\"\"\"\n",
    "DON'T MODIFY ANYTHING IN THIS CELL\n",
    "\"\"\"\n",
    "save_model_path = './image_classification'\n",
    "\n",
    "print('Training...')\n",
    "with tf.Session() as sess:\n",
    "    # Initializing the variables\n",
    "    sess.run(tf.global_variables_initializer())\n",
    "    \n",
    "    # Training cycle\n",
    "    for epoch in range(epochs):\n",
    "        # Loop over all batches\n",
    "        n_batches = 5\n",
    "        for batch_i in range(1, n_batches + 1):\n",
    "            for batch_features, batch_labels in helper.load_preprocess_training_batch(batch_i, batch_size):\n",
    "                train_neural_network(sess, optimizer, keep_probability, batch_features, batch_labels)\n",
    "            print('Epoch {:>2}, CIFAR-10 Batch {}:  '.format(epoch + 1, batch_i), end='')\n",
    "            print_stats(sess, batch_features, batch_labels, cost, accuracy)\n",
    "            \n",
    "    # Save Model\n",
    "    saver = tf.train.Saver()\n",
    "    save_path = saver.save(sess, save_model_path)"
   ]
  },
  {
   "cell_type": "markdown",
   "metadata": {},
   "source": [
    "# Checkpoint\n",
    "The model has been saved to disk.\n",
    "## Test Model\n",
    "Test your model against the test dataset.  This will be your final accuracy. You should have an accuracy greater than 50%. If you don't, keep tweaking the model architecture and parameters."
   ]
  },
  {
   "cell_type": "code",
   "execution_count": 66,
   "metadata": {},
   "outputs": [
    {
     "name": "stdout",
     "output_type": "stream",
     "text": [
      "INFO:tensorflow:Restoring parameters from ./image_classification\n",
      "Testing Accuracy: 0.659375\n",
      "\n"
     ]
    },
    {
     "data": {
      "image/png": "[encoded data removed]",
      "text/plain": [
       "<matplotlib.figure.Figure at 0x7f5f9412c6a0>"
      ]
     },
     "metadata": {
      "image/png": {
       "height": 319,
       "width": 355
      }
     },
     "output_type": "display_data"
    }
   ],
   "source": [
    "\"\"\"\n",
    "DON'T MODIFY ANYTHING IN THIS CELL\n",
    "\"\"\"\n",
    "%matplotlib inline\n",
    "%config InlineBackend.figure_format = 'retina'\n",
    "\n",
    "import tensorflow as tf\n",
    "import pickle\n",
    "import helper\n",
    "import random\n",
    "\n",
    "# Set batch size if not already set\n",
    "try:\n",
    "    if batch_size:\n",
    "        pass\n",
    "except NameError:\n",
    "    batch_size = 64\n",
    "\n",
    "save_model_path = './image_classification'\n",
    "n_samples = 4\n",
    "top_n_predictions = 3\n",
    "\n",
    "def test_model():\n",
    "    \"\"\"\n",
    "    Test the saved model against the test dataset\n",
    "    \"\"\"\n",
    "\n",
    "    test_features, test_labels = pickle.load(open('preprocess_training.p', mode='rb'))\n",
    "    loaded_graph = tf.Graph()\n",
    "\n",
    "    with tf.Session(graph=loaded_graph) as sess:\n",
    "        # Load model\n",
    "        loader = tf.train.import_meta_graph(save_model_path + '.meta')\n",
    "        loader.restore(sess, save_model_path)\n",
    "\n",
    "        # Get Tensors from loaded model\n",
    "        loaded_x = loaded_graph.get_tensor_by_name('x:0')\n",
    "        loaded_y = loaded_graph.get_tensor_by_name('y:0')\n",
    "        loaded_keep_prob = loaded_graph.get_tensor_by_name('keep_prob:0')\n",
    "        loaded_logits = loaded_graph.get_tensor_by_name('logits:0')\n",
    "        loaded_acc = loaded_graph.get_tensor_by_name('accuracy:0')\n",
    "        \n",
    "        # Get accuracy in batches for memory limitations\n",
    "        test_batch_acc_total = 0\n",
    "        test_batch_count = 0\n",
    "        \n",
    "        for train_feature_batch, train_label_batch in helper.batch_features_labels(test_features, test_labels, batch_size):\n",
    "            test_batch_acc_total += sess.run(\n",
    "                loaded_acc,\n",
    "                feed_dict={loaded_x: train_feature_batch, loaded_y: train_label_batch, loaded_keep_prob: 1.0})\n",
    "            test_batch_count += 1\n",
    "\n",
    "        print('Testing Accuracy: {}\\n'.format(test_batch_acc_total/test_batch_count))\n",
    "\n",
    "        # Print Random Samples\n",
    "        random_test_features, random_test_labels = tuple(zip(*random.sample(list(zip(test_features, test_labels)), n_samples)))\n",
    "        random_test_predictions = sess.run(\n",
    "            tf.nn.top_k(tf.nn.softmax(loaded_logits), top_n_predictions),\n",
    "            feed_dict={loaded_x: random_test_features, loaded_y: random_test_labels, loaded_keep_prob: 1.0})\n",
    "        helper.display_image_predictions(random_test_features, random_test_labels, random_test_predictions)\n",
    "\n",
    "\n",
    "test_model()"
   ]
  },
  {
   "cell_type": "markdown",
   "metadata": {},
   "source": [
    "## Why 50-70% Accuracy?\n",
    "You might be wondering why you can't get an accuracy any higher. First things first, 50% isn't bad for a simple CNN.  Pure guessing would get you 10% accuracy. However, you might notice people are getting scores [well above 70%](http://rodrigob.github.io/are_we_there_yet/build/classification_datasets_results.html#43494641522d3130).  That's because we haven't taught you all there is to know about neural networks. We still need to cover a few more techniques.\n",
    "## Submitting This Project\n",
    "When submitting this project, make sure to run all the cells before saving the notebook.  Save the notebook file as \"dlnd_image_classification.ipynb\" and save it as a HTML file under \"File\" -> \"Download as\".  Include the \"helper.py\" and \"problem_unittests.py\" files in your submission."
   ]
  },
  {
   "cell_type": "code",
   "execution_count": null,
   "metadata": {
    "collapsed": true
   },
   "outputs": [],
   "source": []
  }
 ],
 "metadata": {
  "kernelspec": {
   "display_name": "Python 3",
   "language": "python",
   "name": "python3"
  },
  "language_info": {
   "codemirror_mode": {
    "name": "ipython",
    "version": 3
   },
   "file_extension": ".py",
   "mimetype": "text/x-python",
   "name": "python",
   "nbconvert_exporter": "python",
   "pygments_lexer": "ipython3",
   "version": "3.6.1"
  }
 },
 "nbformat": 4,
 "nbformat_minor": 1
}
